{
  "nbformat": 4,
  "nbformat_minor": 0,
  "metadata": {
    "colab": {
      "provenance": [],
      "authorship_tag": "ABX9TyM5FHN2qoApwrRIOZ/5p3t3",
      "include_colab_link": true
    },
    "kernelspec": {
      "name": "python3",
      "display_name": "Python 3"
    },
    "language_info": {
      "name": "python"
    }
  },
  "cells": [
    {
      "cell_type": "markdown",
      "metadata": {
        "id": "view-in-github",
        "colab_type": "text"
      },
      "source": [
        "<a href=\"https://colab.research.google.com/github/Atharva696969/skill-eclipse/blob/main/Chatbot.ipynb\" target=\"_parent\"><img src=\"https://colab.research.google.com/assets/colab-badge.svg\" alt=\"Open In Colab\"/></a>"
      ]
    },
    {
      "cell_type": "code",
      "source": [
        "import nltk\n",
        "from nltk.tokenize import word_tokenize\n",
        "import string\n",
        "\n",
        "# Download NLTK data files\n",
        "nltk.download('punkt')\n",
        "\n",
        "def preprocess_text(text):\n",
        "    # Convert to lowercase\n",
        "    text = text.lower()\n",
        "    # Remove punctuation\n",
        "    text = text.translate(str.maketrans('', '', string.punctuation))\n",
        "    # Tokenize\n",
        "    tokens = word_tokenize(text)\n",
        "    return tokens\n",
        "\n",
        "# Example\n",
        "sample_text = \"Hello! How can I help you today?\"\n",
        "tokens = preprocess_text(sample_text)\n",
        "print(tokens)"
      ],
      "metadata": {
        "colab": {
          "base_uri": "https://localhost:8080/"
        },
        "id": "e6Y_ldP3OeC5",
        "outputId": "16023064-8291-4e5e-bef1-458d0a0c1a36"
      },
      "execution_count": null,
      "outputs": [
        {
          "output_type": "stream",
          "name": "stderr",
          "text": [
            "[nltk_data] Downloading package punkt to /root/nltk_data...\n",
            "[nltk_data]   Unzipping tokenizers/punkt.zip.\n"
          ]
        },
        {
          "output_type": "stream",
          "name": "stdout",
          "text": [
            "['hello', 'how', 'can', 'i', 'help', 'you', 'today']\n"
          ]
        }
      ]
    },
    {
      "cell_type": "code",
      "source": [
        "def identify_intent(user_input):\n",
        "    intents = {\n",
        "        \"greeting\": [\"hello\", \"hi\", \"hey\"],\n",
        "        \"goodbye\": [\"bye\", \"goodbye\", \"see you\"],\n",
        "        \"thanks\": [\"thank you\", \"thanks\"],\n",
        "        \"help\": [\"help\", \"assist\", \"support\"]\n",
        "    }\n",
        "\n",
        "    for intent, keywords in intents.items():\n",
        "        for keyword in keywords:\n",
        "            if keyword in user_input:\n",
        "                return intent\n",
        "    return \"unknown\"\n",
        "\n",
        "# Example\n",
        "user_input = \"Hi there!\"\n",
        "intent = identify_intent(preprocess_text(user_input))\n",
        "print(intent)"
      ],
      "metadata": {
        "colab": {
          "base_uri": "https://localhost:8080/"
        },
        "id": "8ka4b1UWOocX",
        "outputId": "1fcae240-63ec-4e4c-cc33-369ad2c325fa"
      },
      "execution_count": null,
      "outputs": [
        {
          "output_type": "stream",
          "name": "stdout",
          "text": [
            "greeting\n"
          ]
        }
      ]
    },
    {
      "cell_type": "code",
      "source": [
        "responses = {\n",
        "    \"greeting\": \"Hello! How can I assist you today?\",\n",
        "    \"goodbye\": \"Goodbye! Have a great day!\",\n",
        "    \"thanks\": \"You're welcome!\",\n",
        "    \"help\": \"Sure! What do you need help with?\"\n",
        "}\n",
        "\n",
        "def generate_response(intent):\n",
        "    return responses.get(intent, \"I'm sorry, I didn't understand that.\")\n",
        "\n",
        "# Example\n",
        "response = generate_response(intent)\n",
        "print(response)"
      ],
      "metadata": {
        "colab": {
          "base_uri": "https://localhost:8080/"
        },
        "id": "jh1KWuaOOu6x",
        "outputId": "f4c55552-5092-4698-9151-807d8170fbfd"
      },
      "execution_count": null,
      "outputs": [
        {
          "output_type": "stream",
          "name": "stdout",
          "text": [
            "Hello! How can I assist you today?\n"
          ]
        }
      ]
    },
    {
      "cell_type": "code",
      "source": [
        "def chat():\n",
        "    print(\"Chatbot: Hello! Type 'exit' to end the chat.\")\n",
        "    while True:\n",
        "        user_input = input(\"You: \")\n",
        "        if user_input.lower() == \"exit\":\n",
        "            print(\"Chatbot: Goodbye!\")\n",
        "            break\n",
        "        tokens = preprocess_text(user_input)\n",
        "        intent = identify_intent(tokens)\n",
        "        response = generate_response(intent)\n",
        "        print(f\"Chatbot: {response}\")\n",
        "\n",
        "# Start the chat\n",
        "chat()"
      ],
      "metadata": {
        "colab": {
          "base_uri": "https://localhost:8080/"
        },
        "id": "Y2KuEY7JO5GQ",
        "outputId": "e7b892db-9663-4e25-beee-51d001be886d"
      },
      "execution_count": null,
      "outputs": [
        {
          "output_type": "stream",
          "name": "stdout",
          "text": [
            "Chatbot: Hello! Type 'exit' to end the chat.\n",
            "You: hii\n",
            "Chatbot: I'm sorry, I didn't understand that.\n",
            "You: Hi\n",
            "Chatbot: Hello! How can I assist you today?\n",
            "You: I need a assist\n",
            "Chatbot: Sure! What do you need help with?\n",
            "You: Hi there\n",
            "Chatbot: Hello! How can I assist you today?\n",
            "You: Hey\n",
            "Chatbot: Hello! How can I assist you today?\n",
            "You: Bye\n",
            "Chatbot: Goodbye! Have a great day!\n",
            "You: Exit\n",
            "Chatbot: Goodbye!\n"
          ]
        }
      ]
    },
    {
      "cell_type": "code",
      "source": [
        "# Example of saving interactions (pseudo-code)\n",
        "def save_interaction(user_input, response):\n",
        "    with open('interactions.txt', 'a') as f:\n",
        "        f.write(f\"You: {user_input}\\nChatbot: {response}\\n\")\n",
        "\n",
        "# Modify the chat function to save interactions\n",
        "def chat():\n",
        "    print(\"Chatbot: Hello! Type 'exit' to end the chat.\")\n",
        "    while True:\n",
        "        user_input = input(\"You: \")\n",
        "        if user_input.lower() == \"exit\":\n",
        "            print(\"Chatbot: Goodbye!\")\n",
        "            break\n",
        "        tokens = preprocess_text(user_input)\n",
        "        intent = identify_intent(tokens)\n",
        "        response = generate_response(intent)\n",
        "        save_interaction(user_input, response)\n",
        "        print(f\"Chatbot: {response}\")"
      ],
      "metadata": {
        "id": "nRuhxMyWPJg3"
      },
      "execution_count": null,
      "outputs": []
    }
  ]
}